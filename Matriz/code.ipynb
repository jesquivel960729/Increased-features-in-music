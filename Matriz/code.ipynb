{
 "cells": [
  {
   "cell_type": "code",
   "execution_count": 2,
   "metadata": {},
   "outputs": [],
   "source": [
    "import pandas as pd\n",
    "import tensorflow as tf\n",
    "from tensorflow import keras\n",
    "import numpy as np\n",
    "import os\n",
    "from sklearn.model_selection import train_test_split\n",
    "import matplotlib.pyplot as plt\n",
    "from keras import layers,Sequential,optimizers"
   ]
  },
  {
   "cell_type": "markdown",
   "metadata": {},
   "source": [
    "Importacion de librerias a necesitar\n"
   ]
  },
  {
   "cell_type": "code",
   "execution_count": 3,
   "metadata": {},
   "outputs": [],
   "source": [
    "from keras.utils import Sequence\n",
    "import numpy as np   \n",
    "\n",
    "class DataGenerator(Sequence):\n",
    "    def __init__(self, x_set, y_set, batch_size):\n",
    "        self.x, self.y = x_set, y_set\n",
    "        self.batch_size = batch_size\n",
    "\n",
    "    def __len__(self):\n",
    "        return int(np.ceil(len(self.x) / float(self.batch_size)))\n",
    "\n",
    "    def __getitem__(self, idx):\n",
    "        batch_x = self.x[idx * self.batch_size:(idx + 1) * self.batch_size]\n",
    "        batch_y = self.y[idx * self.batch_size:(idx + 1) * self.batch_size]\n",
    "        return batch_x, batch_y\n",
    "\n",
    "MUSIC_PATH = \"./AB_normalizado.csv\"\n",
    "MUSIC_PATH_TRANS = \"features.csv\"\n"
   ]
  },
  {
   "cell_type": "markdown",
   "metadata": {},
   "source": [
    "BillboardHot100.csv es el dataset a utilizar que contiene datos de canciones y su ranking, ademas del escritor o escritores ,los features y genero de la cancion"
   ]
  },
  {
   "cell_type": "markdown",
   "metadata": {},
   "source": [
    "A.csv contiene ya una matriz de Artista x Caracteristicas, donde se vectoriza cada genero, escritor, de cada artista correspondiente, fue un trabajo bastante pesado porque se tuvo que crear un dataset completamente nuevo recopilando, organizando y agrupando datos de una mejor manera para el problema a resolver\n",
    "\n",
    "B.csv contiene la transpuesta de A y AB contiene la multiplicacion de A y su transpuesta\n",
    "AB.csv normalizada contiene AB/k k=2 para que todos los valores esten entre 0 y 1\n",
    "features.csv es una matriz Artista x Artista la cual contiene 1 en la casilla si el artista i hizo algun feature con el artista j (el valor de la diagonal siempre es 1)"
   ]
  },
  {
   "cell_type": "code",
   "execution_count": 4,
   "metadata": {},
   "outputs": [],
   "source": [
    "def load_music_data(music_path = MUSIC_PATH):\n",
    "    csv_path = os.path.join(music_path)\n",
    "    return pd.read_csv(csv_path,index_col=0)"
   ]
  },
  {
   "cell_type": "markdown",
   "metadata": {},
   "source": [
    "Se procede a cargar los dataset\n"
   ]
  },
  {
   "cell_type": "code",
   "execution_count": 5,
   "metadata": {},
   "outputs": [],
   "source": [
    "\n",
    "\n",
    "AB = load_music_data()\n",
    "AB = pd.DataFrame(AB)\n",
    "AB = AB.to_numpy()\n",
    "dt = load_music_data(MUSIC_PATH_TRANS)\n",
    "dt = pd.DataFrame(dt)\n",
    "H = dt.to_numpy()\n",
    "\n",
    "AB = AB.flatten()\n",
    "H = H.flatten()\n",
    "\n",
    "X_train, X_test, Y_train, Y_test = train_test_split(AB, H, test_size=0.9)\n",
    "train_gen = DataGenerator(X_train, Y_train, 32)\n",
    "test_gen = DataGenerator(X_test, Y_test, 32)"
   ]
  },
  {
   "cell_type": "markdown",
   "metadata": {},
   "source": [
    "Se agregaron 4 capas al modelo:"
   ]
  },
  {
   "cell_type": "code",
   "execution_count": 6,
   "metadata": {},
   "outputs": [],
   "source": [
    "\n",
    "import joblib\n",
    "import keras\n",
    "capa = layers.Dense(units=1,input_shape=1)\n",
    "capa1 = layers.Dense(units=5,activation='relu')\n",
    "capa2 = layers.Dense(units=5,activation='relu')\n",
    "final = layers.Dense(units=1,activation='sigmoid')\n",
    "\n"
   ]
  },
  {
   "cell_type": "code",
   "execution_count": 10,
   "metadata": {},
   "outputs": [
    {
     "name": "stdout",
     "output_type": "stream",
     "text": [
      "Entrenado Modelo\n"
     ]
    }
   ],
   "source": [
    "modelo = Sequential(\n",
    "    [capa,capa1,capa2,final]\n",
    ")\n",
    "modelo.compile(\n",
    "    optimizer=\"adam\",\n",
    "    loss='binary_crossentropy',\n",
    "    metrics=['accuracy']\n",
    ")\n",
    "print(\"Entrenado Modelo\")\n"
   ]
  },
  {
   "cell_type": "markdown",
   "metadata": {},
   "source": [
    "Se procede a entrenar el modelo con el 10% de los datos debido a la gran cantidad de datos que teniamos y 10 epochs"
   ]
  },
  {
   "cell_type": "code",
   "execution_count": 11,
   "metadata": {},
   "outputs": [
    {
     "name": "stdout",
     "output_type": "stream",
     "text": [
      "Epoch 1/10\n",
      "15181/15181 [==============================] - 142s 9ms/step - loss: 0.0074 - accuracy: 0.9986 - val_loss: 0.0073 - val_accuracy: 0.9985\n",
      "Epoch 2/10\n",
      "15181/15181 [==============================] - 128s 8ms/step - loss: 0.0066 - accuracy: 0.9986 - val_loss: 0.0069 - val_accuracy: 0.9985\n",
      "Epoch 3/10\n",
      "15181/15181 [==============================] - 147s 10ms/step - loss: 0.0064 - accuracy: 0.9991 - val_loss: 0.0069 - val_accuracy: 0.9990\n",
      "Epoch 4/10\n",
      "15181/15181 [==============================] - 144s 10ms/step - loss: 0.0063 - accuracy: 0.9991 - val_loss: 0.0067 - val_accuracy: 0.9990\n",
      "Epoch 5/10\n",
      "15181/15181 [==============================] - 150s 10ms/step - loss: 0.0062 - accuracy: 0.9991 - val_loss: 0.0068 - val_accuracy: 0.9990\n",
      "Epoch 6/10\n",
      "15181/15181 [==============================] - 164s 11ms/step - loss: 0.0062 - accuracy: 0.9991 - val_loss: 0.0066 - val_accuracy: 0.9990\n",
      "Epoch 7/10\n",
      "15181/15181 [==============================] - 172s 11ms/step - loss: 0.0062 - accuracy: 0.9991 - val_loss: 0.0066 - val_accuracy: 0.9990\n",
      "Epoch 8/10\n",
      "15181/15181 [==============================] - 166s 11ms/step - loss: 0.0062 - accuracy: 0.9991 - val_loss: 0.0066 - val_accuracy: 0.9990\n",
      "Epoch 9/10\n",
      "15181/15181 [==============================] - 148s 10ms/step - loss: 0.0062 - accuracy: 0.9991 - val_loss: 0.0066 - val_accuracy: 0.9990\n",
      "Epoch 10/10\n",
      "15181/15181 [==============================] - 163s 11ms/step - loss: 0.0062 - accuracy: 0.9991 - val_loss: 0.0066 - val_accuracy: 0.9990\n"
     ]
    }
   ],
   "source": [
    "history = modelo.fit(train_gen,\n",
    "                    validation_data=test_gen, epochs=10)\n",
    "\n"
   ]
  },
  {
   "cell_type": "code",
   "execution_count": 18,
   "metadata": {},
   "outputs": [
    {
     "name": "stdout",
     "output_type": "stream",
     "text": [
      "Modelo Entrenado\n"
     ]
    }
   ],
   "source": [
    "print(\"Modelo Entrenado\")\n",
    "modelo.save(\"modelo_capa.h5\")\n",
    "\n"
   ]
  },
  {
   "cell_type": "code",
   "execution_count": 20,
   "metadata": {},
   "outputs": [
    {
     "name": "stdout",
     "output_type": "stream",
     "text": [
      "136621/136621 [==============================] - 160s 1ms/step - loss: 0.0066 - accuracy: 0.9990\n",
      "0.9990290403366089\n"
     ]
    }
   ],
   "source": [
    "loss , acurracy = modelo.evaluate(X_test,Y_test)\n",
    "print(acurracy)"
   ]
  },
  {
   "cell_type": "code",
   "execution_count": 21,
   "metadata": {},
   "outputs": [
    {
     "data": {
      "text/plain": [
       "[array([[0.7569959]], dtype=float32),\n",
       " array([-0.462826], dtype=float32),\n",
       " array([[ 0.3080351, -1.0788965, -1.1789477,  3.2389674, -0.7762517]],\n",
       "       dtype=float32),\n",
       " array([-0.08533186,  0.34332988,  0.4515734 ,  0.20583996,  0.44377416],\n",
       "       dtype=float32),\n",
       " array([[ 0.78362083,  0.42562148,  0.67853504, -0.6168331 ,  0.2183187 ],\n",
       "        [-0.30437097,  1.1583351 ,  0.5556266 ,  0.48788583,  0.47330248],\n",
       "        [ 0.31328905,  0.04795428,  1.0829296 ,  1.298686  , -0.75809515],\n",
       "        [-0.10010149, -2.1539927 , -2.276665  , -1.9050446 , -0.56888026],\n",
       "        [-0.51892185,  1.1535773 ,  1.2618618 ,  0.6348801 , -0.68822837]],\n",
       "       dtype=float32),\n",
       " array([-0.02091344,  0.46669042,  0.46402872,  0.41283968,  0.        ],\n",
       "       dtype=float32),\n",
       " array([[ 0.7033373 ],\n",
       "        [-1.2818853 ],\n",
       "        [-1.3124565 ],\n",
       "        [-1.1730691 ],\n",
       "        [ 0.34601474]], dtype=float32),\n",
       " array([2.0885253], dtype=float32)]"
      ]
     },
     "execution_count": 21,
     "metadata": {},
     "output_type": "execute_result"
    }
   ],
   "source": [
    "modelo.get_weights()\n"
   ]
  },
  {
   "cell_type": "code",
   "execution_count": 22,
   "metadata": {},
   "outputs": [
    {
     "data": {
      "text/plain": [
       "dict_keys(['loss', 'accuracy', 'val_loss', 'val_accuracy'])"
      ]
     },
     "execution_count": 22,
     "metadata": {},
     "output_type": "execute_result"
    }
   ],
   "source": [
    "history_dict = history.history\n",
    "history_dict.keys()\n"
   ]
  },
  {
   "cell_type": "code",
   "execution_count": 24,
   "metadata": {},
   "outputs": [
    {
     "data": {
      "image/png": "[encoded data removed]",
      "text/plain": [
       "<Figure size 432x288 with 1 Axes>"
      ]
     },
     "metadata": {
      "needs_background": "light"
     },
     "output_type": "display_data"
    }
   ],
   "source": [
    "import matplotlib.pyplot as plt\n",
    "\n",
    "acc = history_dict[\"accuracy\"]\n",
    "val_b = history_dict['val_accuracy']\n",
    "val_l = history_dict['val_loss']\n",
    "loss = history_dict[\"loss\"]\n",
    "\n",
    "epochs = range(1, len(acc) + 1)\n",
    "plt.plot(epochs, loss, 'b', label='Training loss')\n",
    "plt.plot(epochs, val_l, 'r', label='Validation loss')\n",
    "plt.title('Training and validation loss')\n",
    "plt.xlabel('Epochs')\n",
    "plt.ylabel('Loss')\n",
    "plt.legend()\n",
    "\n",
    "plt.show()\n"
   ]
  },
  {
   "cell_type": "code",
   "execution_count": 25,
   "metadata": {},
   "outputs": [
    {
     "data": {
      "image/png": "[encoded data removed]",
      "text/plain": [
       "<Figure size 432x288 with 1 Axes>"
      ]
     },
     "metadata": {
      "needs_background": "light"
     },
     "output_type": "display_data"
    }
   ],
   "source": [
    "plt.plot(epochs, acc, 'b', label='Training acc')\n",
    "plt.plot(epochs, val_b, 'r', label='Validation acc')\n",
    "plt.title('Training and validation accuracy')\n",
    "plt.xlabel('Epochs')\n",
    "plt.ylabel('Accuracy')\n",
    "plt.legend(loc='lower right')\n",
    "\n",
    "plt.show()"
   ]
  },
  {
   "cell_type": "code",
   "execution_count": 36,
   "metadata": {},
   "outputs": [
    {
     "name": "stdout",
     "output_type": "stream",
     "text": [
      "15181/15181 [==============================] - 14s 941us/step\n"
     ]
    },
    {
     "data": {
      "text/plain": [
       "array([[0.00031443],\n",
       "       [0.00252275],\n",
       "       [0.00053462],\n",
       "       ...,\n",
       "       [0.00031443],\n",
       "       [0.00070763],\n",
       "       [0.00047251]], dtype=float32)"
      ]
     },
     "execution_count": 36,
     "metadata": {},
     "output_type": "execute_result"
    }
   ],
   "source": [
    "result = modelo.predict(X_train)\n",
    "result\n"
   ]
  },
  {
   "cell_type": "code",
   "execution_count": 37,
   "metadata": {},
   "outputs": [],
   "source": [
    "result = np.round(result)\n",
    "from sklearn.metrics import confusion_matrix\n",
    "cm = confusion_matrix(y_pred=result,y_true=Y_train)"
   ]
  },
  {
   "cell_type": "code",
   "execution_count": 38,
   "metadata": {},
   "outputs": [
    {
     "name": "stdout",
     "output_type": "stream",
     "text": [
      "[[485053     17]\n",
      " [   419    272]]\n"
     ]
    }
   ],
   "source": [
    "print(cm)"
   ]
  },
  {
   "cell_type": "markdown",
   "metadata": {},
   "source": [
    "Procedemos a redondear los resultados dados para que tomen valores 0 o 1 \n",
    "Matriz de confusion para comparar los resultados de la prediccion con los resultados reales utilizando ya el 90% del dataset"
   ]
  },
  {
   "cell_type": "code",
   "execution_count": 39,
   "metadata": {},
   "outputs": [
    {
     "name": "stdout",
     "output_type": "stream",
     "text": [
      "136621/136621 [==============================] - 127s 930us/step\n"
     ]
    }
   ],
   "source": [
    "result = modelo.predict(X_test)\n",
    "result = np.round(result)\n",
    "cm = confusion_matrix(y_pred=result,y_true=Y_test)"
   ]
  },
  {
   "cell_type": "code",
   "execution_count": 40,
   "metadata": {},
   "outputs": [
    {
     "name": "stdout",
     "output_type": "stream",
     "text": [
      "[[4365152     192]\n",
      " [   4053    2458]]\n"
     ]
    }
   ],
   "source": [
    "print(cm)"
   ]
  },
  {
   "cell_type": "markdown",
   "metadata": {},
   "source": [
    "Como se pude observar en la diagonal se encuentran los valores predecidos correctamente"
   ]
  }
 ],
 "metadata": {
  "kernelspec": {
   "display_name": "Python 3.8.10 64-bit",
   "language": "python",
   "name": "python3"
  },
  "language_info": {
   "codemirror_mode": {
    "name": "ipython",
    "version": 3
   },
   "file_extension": ".py",
   "mimetype": "text/x-python",
   "name": "python",
   "nbconvert_exporter": "python",
   "pygments_lexer": "ipython3",
   "version": "3.8.10"
  },
  "orig_nbformat": 4,
  "vscode": {
   "interpreter": {
    "hash": "916dbcbb3f70747c44a77c7bcd40155683ae19c65e1c03b4aa3499c5328201f1"
   }
  }
 },
 "nbformat": 4,
 "nbformat_minor": 2
}
